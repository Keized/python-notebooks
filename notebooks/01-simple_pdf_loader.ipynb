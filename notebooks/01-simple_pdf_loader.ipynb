{
 "cells": [
  {
   "cell_type": "code",
   "execution_count": 5,
   "id": "65880853-35c5-4d39-8b60-15e4e9ef1a9c",
   "metadata": {},
   "outputs": [],
   "source": [
    "import os\n",
    "import openai\n",
    "from dotenv import load_dotenv\n",
    "\n",
    "load_dotenv()\n",
    "openai.api_key = os.environ['OPENAI_API_KEY']"
   ]
  },
  {
   "cell_type": "code",
   "execution_count": 6,
   "id": "48d34513-63f1-4aaa-816b-ecdf6813e115",
   "metadata": {},
   "outputs": [],
   "source": [
    "from langchain.document_loaders import PyPDFLoader\n",
    "from langchain_core.documents import Document\n",
    "from langchain_openai import OpenAIEmbeddings\n",
    "from langchain_community.vectorstores import Chroma\n",
    "from langchain_text_splitters import RecursiveCharacterTextSplitter\n",
    "from typing import (List)\n",
    "\n",
    "embedding = OpenAIEmbeddings()\n",
    "splitter = RecursiveCharacterTextSplitter()\n",
    "\n",
    "document = PyPDFLoader('../data/autogpt.pdf').load()\n",
    "chunks = splitter.split_documents(document)\n",
    "persist_directory = '../docs/chroma/01'\n",
    "\n",
    "vectordb = Chroma(\n",
    "    embedding_function=embedding,\n",
    "    persist_directory=persist_directory\n",
    ")"
   ]
  },
  {
   "cell_type": "code",
   "execution_count": 8,
   "id": "e7767714",
   "metadata": {},
   "outputs": [
    {
     "name": "stdout",
     "output_type": "stream",
     "text": [
      "{'page': 5, 'source': '../data/autogpt.pdf'}\n"
     ]
    }
   ],
   "source": [
    "if (len(vectordb.get()['ids']) < 1):\n",
    "    print('persist...')\n",
    "    vectordb.from_documents(\n",
    "        documents=chunks,\n",
    "        embedding=embedding,\n",
    "        persist_directory=persist_directory\n",
    "    )\n",
    "\n",
    "question = \"what about the persistence boost\"\n",
    "docs = vectordb.similarity_search(question,k=3)\n",
    "print(docs[0].metadata)"
   ]
  }
 ],
 "metadata": {
  "kernelspec": {
   "display_name": "Python 3 (ipykernel)",
   "language": "python",
   "name": "python3"
  },
  "language_info": {
   "codemirror_mode": {
    "name": "ipython",
    "version": 3
   },
   "file_extension": ".py",
   "mimetype": "text/x-python",
   "name": "python",
   "nbconvert_exporter": "python",
   "pygments_lexer": "ipython3",
   "version": "3.11.3"
  }
 },
 "nbformat": 4,
 "nbformat_minor": 5
}
