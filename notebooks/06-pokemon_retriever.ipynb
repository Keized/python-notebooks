{
 "cells": [
  {
   "cell_type": "markdown",
   "metadata": {},
   "source": [
    "# Feed"
   ]
  },
  {
   "cell_type": "code",
   "execution_count": 1,
   "metadata": {},
   "outputs": [
    {
     "name": "stdout",
     "output_type": "stream",
     "text": [
      "Requirement already satisfied: jq in /Users/kei/www/langchain-experiments/venv/lib/python3.11/site-packages (1.7.0)\n",
      "\n",
      "\u001b[1m[\u001b[0m\u001b[34;49mnotice\u001b[0m\u001b[1;39;49m]\u001b[0m\u001b[39;49m A new release of pip is available: \u001b[0m\u001b[31;49m24.1.1\u001b[0m\u001b[39;49m -> \u001b[0m\u001b[32;49m24.1.2\u001b[0m\n",
      "\u001b[1m[\u001b[0m\u001b[34;49mnotice\u001b[0m\u001b[1;39;49m]\u001b[0m\u001b[39;49m To update, run: \u001b[0m\u001b[32;49mpip install --upgrade pip\u001b[0m\n",
      "Requirement already satisfied: nest_asyncio in /Users/kei/www/langchain-experiments/venv/lib/python3.11/site-packages (1.6.0)\n",
      "\n",
      "\u001b[1m[\u001b[0m\u001b[34;49mnotice\u001b[0m\u001b[1;39;49m]\u001b[0m\u001b[39;49m A new release of pip is available: \u001b[0m\u001b[31;49m24.1.1\u001b[0m\u001b[39;49m -> \u001b[0m\u001b[32;49m24.1.2\u001b[0m\n",
      "\u001b[1m[\u001b[0m\u001b[34;49mnotice\u001b[0m\u001b[1;39;49m]\u001b[0m\u001b[39;49m To update, run: \u001b[0m\u001b[32;49mpip install --upgrade pip\u001b[0m\n",
      "Requirement already satisfied: langchain_chroma in /Users/kei/www/langchain-experiments/venv/lib/python3.11/site-packages (0.1.2)\n",
      "Requirement already satisfied: langchain_openai in /Users/kei/www/langchain-experiments/venv/lib/python3.11/site-packages (0.1.14)\n",
      "Requirement already satisfied: chromadb<0.6.0,>=0.4.0 in /Users/kei/www/langchain-experiments/venv/lib/python3.11/site-packages (from langchain_chroma) (0.5.3)\n",
      "Requirement already satisfied: fastapi<1,>=0.95.2 in /Users/kei/www/langchain-experiments/venv/lib/python3.11/site-packages (from langchain_chroma) (0.111.0)\n",
      "Requirement already satisfied: langchain-core<0.3,>=0.1.40 in /Users/kei/www/langchain-experiments/venv/lib/python3.11/site-packages (from langchain_chroma) (0.2.11)\n",
      "Requirement already satisfied: numpy<2,>=1 in /Users/kei/www/langchain-experiments/venv/lib/python3.11/site-packages (from langchain_chroma) (1.26.4)\n",
      "Requirement already satisfied: openai<2.0.0,>=1.32.0 in /Users/kei/www/langchain-experiments/venv/lib/python3.11/site-packages (from langchain_openai) (1.35.10)\n",
      "Requirement already satisfied: tiktoken<1,>=0.7 in /Users/kei/www/langchain-experiments/venv/lib/python3.11/site-packages (from langchain_openai) (0.7.0)\n",
      "Requirement already satisfied: build>=1.0.3 in /Users/kei/www/langchain-experiments/venv/lib/python3.11/site-packages (from chromadb<0.6.0,>=0.4.0->langchain_chroma) (1.2.1)\n",
      "Requirement already satisfied: requests>=2.28 in /Users/kei/www/langchain-experiments/venv/lib/python3.11/site-packages (from chromadb<0.6.0,>=0.4.0->langchain_chroma) (2.32.3)\n",
      "Requirement already satisfied: pydantic>=1.9 in /Users/kei/www/langchain-experiments/venv/lib/python3.11/site-packages (from chromadb<0.6.0,>=0.4.0->langchain_chroma) (2.8.2)\n",
      "Requirement already satisfied: chroma-hnswlib==0.7.3 in /Users/kei/www/langchain-experiments/venv/lib/python3.11/site-packages (from chromadb<0.6.0,>=0.4.0->langchain_chroma) (0.7.3)\n",
      "Requirement already satisfied: uvicorn>=0.18.3 in /Users/kei/www/langchain-experiments/venv/lib/python3.11/site-packages (from uvicorn[standard]>=0.18.3->chromadb<0.6.0,>=0.4.0->langchain_chroma) (0.30.1)\n",
      "Requirement already satisfied: posthog>=2.4.0 in /Users/kei/www/langchain-experiments/venv/lib/python3.11/site-packages (from chromadb<0.6.0,>=0.4.0->langchain_chroma) (3.5.0)\n",
      "Requirement already satisfied: typing-extensions>=4.5.0 in /Users/kei/www/langchain-experiments/venv/lib/python3.11/site-packages (from chromadb<0.6.0,>=0.4.0->langchain_chroma) (4.12.2)\n",
      "Requirement already satisfied: onnxruntime>=1.14.1 in /Users/kei/www/langchain-experiments/venv/lib/python3.11/site-packages (from chromadb<0.6.0,>=0.4.0->langchain_chroma) (1.18.1)\n",
      "Requirement already satisfied: opentelemetry-api>=1.2.0 in /Users/kei/www/langchain-experiments/venv/lib/python3.11/site-packages (from chromadb<0.6.0,>=0.4.0->langchain_chroma) (1.25.0)\n",
      "Requirement already satisfied: opentelemetry-exporter-otlp-proto-grpc>=1.2.0 in /Users/kei/www/langchain-experiments/venv/lib/python3.11/site-packages (from chromadb<0.6.0,>=0.4.0->langchain_chroma) (1.25.0)\n",
      "Requirement already satisfied: opentelemetry-instrumentation-fastapi>=0.41b0 in /Users/kei/www/langchain-experiments/venv/lib/python3.11/site-packages (from chromadb<0.6.0,>=0.4.0->langchain_chroma) (0.46b0)\n",
      "Requirement already satisfied: opentelemetry-sdk>=1.2.0 in /Users/kei/www/langchain-experiments/venv/lib/python3.11/site-packages (from chromadb<0.6.0,>=0.4.0->langchain_chroma) (1.25.0)\n",
      "Requirement already satisfied: tokenizers>=0.13.2 in /Users/kei/www/langchain-experiments/venv/lib/python3.11/site-packages (from chromadb<0.6.0,>=0.4.0->langchain_chroma) (0.19.1)\n",
      "Requirement already satisfied: pypika>=0.48.9 in /Users/kei/www/langchain-experiments/venv/lib/python3.11/site-packages (from chromadb<0.6.0,>=0.4.0->langchain_chroma) (0.48.9)\n",
      "Requirement already satisfied: tqdm>=4.65.0 in /Users/kei/www/langchain-experiments/venv/lib/python3.11/site-packages (from chromadb<0.6.0,>=0.4.0->langchain_chroma) (4.66.4)\n",
      "Requirement already satisfied: overrides>=7.3.1 in /Users/kei/www/langchain-experiments/venv/lib/python3.11/site-packages (from chromadb<0.6.0,>=0.4.0->langchain_chroma) (7.7.0)\n",
      "Requirement already satisfied: importlib-resources in /Users/kei/www/langchain-experiments/venv/lib/python3.11/site-packages (from chromadb<0.6.0,>=0.4.0->langchain_chroma) (6.4.0)\n",
      "Requirement already satisfied: grpcio>=1.58.0 in /Users/kei/www/langchain-experiments/venv/lib/python3.11/site-packages (from chromadb<0.6.0,>=0.4.0->langchain_chroma) (1.64.1)\n",
      "Requirement already satisfied: bcrypt>=4.0.1 in /Users/kei/www/langchain-experiments/venv/lib/python3.11/site-packages (from chromadb<0.6.0,>=0.4.0->langchain_chroma) (4.1.3)\n",
      "Requirement already satisfied: typer>=0.9.0 in /Users/kei/www/langchain-experiments/venv/lib/python3.11/site-packages (from chromadb<0.6.0,>=0.4.0->langchain_chroma) (0.12.3)\n",
      "Requirement already satisfied: kubernetes>=28.1.0 in /Users/kei/www/langchain-experiments/venv/lib/python3.11/site-packages (from chromadb<0.6.0,>=0.4.0->langchain_chroma) (30.1.0)\n",
      "Requirement already satisfied: tenacity>=8.2.3 in /Users/kei/www/langchain-experiments/venv/lib/python3.11/site-packages (from chromadb<0.6.0,>=0.4.0->langchain_chroma) (8.5.0)\n",
      "Requirement already satisfied: PyYAML>=6.0.0 in /Users/kei/www/langchain-experiments/venv/lib/python3.11/site-packages (from chromadb<0.6.0,>=0.4.0->langchain_chroma) (6.0.1)\n",
      "Requirement already satisfied: mmh3>=4.0.1 in /Users/kei/www/langchain-experiments/venv/lib/python3.11/site-packages (from chromadb<0.6.0,>=0.4.0->langchain_chroma) (4.1.0)\n",
      "Requirement already satisfied: orjson>=3.9.12 in /Users/kei/www/langchain-experiments/venv/lib/python3.11/site-packages (from chromadb<0.6.0,>=0.4.0->langchain_chroma) (3.10.6)\n",
      "Requirement already satisfied: httpx>=0.27.0 in /Users/kei/www/langchain-experiments/venv/lib/python3.11/site-packages (from chromadb<0.6.0,>=0.4.0->langchain_chroma) (0.27.0)\n",
      "Requirement already satisfied: starlette<0.38.0,>=0.37.2 in /Users/kei/www/langchain-experiments/venv/lib/python3.11/site-packages (from fastapi<1,>=0.95.2->langchain_chroma) (0.37.2)\n",
      "Requirement already satisfied: fastapi-cli>=0.0.2 in /Users/kei/www/langchain-experiments/venv/lib/python3.11/site-packages (from fastapi<1,>=0.95.2->langchain_chroma) (0.0.4)\n",
      "Requirement already satisfied: jinja2>=2.11.2 in /Users/kei/www/langchain-experiments/venv/lib/python3.11/site-packages (from fastapi<1,>=0.95.2->langchain_chroma) (3.1.4)\n",
      "Requirement already satisfied: python-multipart>=0.0.7 in /Users/kei/www/langchain-experiments/venv/lib/python3.11/site-packages (from fastapi<1,>=0.95.2->langchain_chroma) (0.0.9)\n",
      "Requirement already satisfied: ujson!=4.0.2,!=4.1.0,!=4.2.0,!=4.3.0,!=5.0.0,!=5.1.0,>=4.0.1 in /Users/kei/www/langchain-experiments/venv/lib/python3.11/site-packages (from fastapi<1,>=0.95.2->langchain_chroma) (5.10.0)\n",
      "Requirement already satisfied: email_validator>=2.0.0 in /Users/kei/www/langchain-experiments/venv/lib/python3.11/site-packages (from fastapi<1,>=0.95.2->langchain_chroma) (2.2.0)\n",
      "Requirement already satisfied: jsonpatch<2.0,>=1.33 in /Users/kei/www/langchain-experiments/venv/lib/python3.11/site-packages (from langchain-core<0.3,>=0.1.40->langchain_chroma) (1.33)\n",
      "Requirement already satisfied: langsmith<0.2.0,>=0.1.75 in /Users/kei/www/langchain-experiments/venv/lib/python3.11/site-packages (from langchain-core<0.3,>=0.1.40->langchain_chroma) (0.1.83)\n",
      "Requirement already satisfied: packaging<25,>=23.2 in /Users/kei/www/langchain-experiments/venv/lib/python3.11/site-packages (from langchain-core<0.3,>=0.1.40->langchain_chroma) (24.1)\n",
      "Requirement already satisfied: anyio<5,>=3.5.0 in /Users/kei/www/langchain-experiments/venv/lib/python3.11/site-packages (from openai<2.0.0,>=1.32.0->langchain_openai) (4.4.0)\n",
      "Requirement already satisfied: distro<2,>=1.7.0 in /Users/kei/www/langchain-experiments/venv/lib/python3.11/site-packages (from openai<2.0.0,>=1.32.0->langchain_openai) (1.9.0)\n",
      "Requirement already satisfied: sniffio in /Users/kei/www/langchain-experiments/venv/lib/python3.11/site-packages (from openai<2.0.0,>=1.32.0->langchain_openai) (1.3.1)\n",
      "Requirement already satisfied: regex>=2022.1.18 in /Users/kei/www/langchain-experiments/venv/lib/python3.11/site-packages (from tiktoken<1,>=0.7->langchain_openai) (2024.5.15)\n",
      "Requirement already satisfied: idna>=2.8 in /Users/kei/www/langchain-experiments/venv/lib/python3.11/site-packages (from anyio<5,>=3.5.0->openai<2.0.0,>=1.32.0->langchain_openai) (3.7)\n",
      "Requirement already satisfied: pyproject_hooks in /Users/kei/www/langchain-experiments/venv/lib/python3.11/site-packages (from build>=1.0.3->chromadb<0.6.0,>=0.4.0->langchain_chroma) (1.1.0)\n",
      "Requirement already satisfied: dnspython>=2.0.0 in /Users/kei/www/langchain-experiments/venv/lib/python3.11/site-packages (from email_validator>=2.0.0->fastapi<1,>=0.95.2->langchain_chroma) (2.6.1)\n",
      "Requirement already satisfied: certifi in /Users/kei/www/langchain-experiments/venv/lib/python3.11/site-packages (from httpx>=0.27.0->chromadb<0.6.0,>=0.4.0->langchain_chroma) (2024.7.4)\n",
      "Requirement already satisfied: httpcore==1.* in /Users/kei/www/langchain-experiments/venv/lib/python3.11/site-packages (from httpx>=0.27.0->chromadb<0.6.0,>=0.4.0->langchain_chroma) (1.0.5)\n",
      "Requirement already satisfied: h11<0.15,>=0.13 in /Users/kei/www/langchain-experiments/venv/lib/python3.11/site-packages (from httpcore==1.*->httpx>=0.27.0->chromadb<0.6.0,>=0.4.0->langchain_chroma) (0.14.0)\n",
      "Requirement already satisfied: MarkupSafe>=2.0 in /Users/kei/www/langchain-experiments/venv/lib/python3.11/site-packages (from jinja2>=2.11.2->fastapi<1,>=0.95.2->langchain_chroma) (2.1.5)\n",
      "Requirement already satisfied: jsonpointer>=1.9 in /Users/kei/www/langchain-experiments/venv/lib/python3.11/site-packages (from jsonpatch<2.0,>=1.33->langchain-core<0.3,>=0.1.40->langchain_chroma) (3.0.0)\n",
      "Requirement already satisfied: six>=1.9.0 in /Users/kei/www/langchain-experiments/venv/lib/python3.11/site-packages (from kubernetes>=28.1.0->chromadb<0.6.0,>=0.4.0->langchain_chroma) (1.16.0)\n",
      "Requirement already satisfied: python-dateutil>=2.5.3 in /Users/kei/www/langchain-experiments/venv/lib/python3.11/site-packages (from kubernetes>=28.1.0->chromadb<0.6.0,>=0.4.0->langchain_chroma) (2.9.0.post0)\n",
      "Requirement already satisfied: google-auth>=1.0.1 in /Users/kei/www/langchain-experiments/venv/lib/python3.11/site-packages (from kubernetes>=28.1.0->chromadb<0.6.0,>=0.4.0->langchain_chroma) (2.31.0)\n",
      "Requirement already satisfied: websocket-client!=0.40.0,!=0.41.*,!=0.42.*,>=0.32.0 in /Users/kei/www/langchain-experiments/venv/lib/python3.11/site-packages (from kubernetes>=28.1.0->chromadb<0.6.0,>=0.4.0->langchain_chroma) (1.8.0)\n",
      "Requirement already satisfied: requests-oauthlib in /Users/kei/www/langchain-experiments/venv/lib/python3.11/site-packages (from kubernetes>=28.1.0->chromadb<0.6.0,>=0.4.0->langchain_chroma) (2.0.0)\n",
      "Requirement already satisfied: oauthlib>=3.2.2 in /Users/kei/www/langchain-experiments/venv/lib/python3.11/site-packages (from kubernetes>=28.1.0->chromadb<0.6.0,>=0.4.0->langchain_chroma) (3.2.2)\n",
      "Requirement already satisfied: urllib3>=1.24.2 in /Users/kei/www/langchain-experiments/venv/lib/python3.11/site-packages (from kubernetes>=28.1.0->chromadb<0.6.0,>=0.4.0->langchain_chroma) (2.2.2)\n",
      "Requirement already satisfied: coloredlogs in /Users/kei/www/langchain-experiments/venv/lib/python3.11/site-packages (from onnxruntime>=1.14.1->chromadb<0.6.0,>=0.4.0->langchain_chroma) (15.0.1)\n",
      "Requirement already satisfied: flatbuffers in /Users/kei/www/langchain-experiments/venv/lib/python3.11/site-packages (from onnxruntime>=1.14.1->chromadb<0.6.0,>=0.4.0->langchain_chroma) (24.3.25)\n",
      "Requirement already satisfied: protobuf in /Users/kei/www/langchain-experiments/venv/lib/python3.11/site-packages (from onnxruntime>=1.14.1->chromadb<0.6.0,>=0.4.0->langchain_chroma) (4.25.3)\n",
      "Requirement already satisfied: sympy in /Users/kei/www/langchain-experiments/venv/lib/python3.11/site-packages (from onnxruntime>=1.14.1->chromadb<0.6.0,>=0.4.0->langchain_chroma) (1.12.1)\n",
      "Requirement already satisfied: deprecated>=1.2.6 in /Users/kei/www/langchain-experiments/venv/lib/python3.11/site-packages (from opentelemetry-api>=1.2.0->chromadb<0.6.0,>=0.4.0->langchain_chroma) (1.2.14)\n",
      "Requirement already satisfied: importlib-metadata<=7.1,>=6.0 in /Users/kei/www/langchain-experiments/venv/lib/python3.11/site-packages (from opentelemetry-api>=1.2.0->chromadb<0.6.0,>=0.4.0->langchain_chroma) (7.1.0)\n",
      "Requirement already satisfied: googleapis-common-protos~=1.52 in /Users/kei/www/langchain-experiments/venv/lib/python3.11/site-packages (from opentelemetry-exporter-otlp-proto-grpc>=1.2.0->chromadb<0.6.0,>=0.4.0->langchain_chroma) (1.63.2)\n",
      "Requirement already satisfied: opentelemetry-exporter-otlp-proto-common==1.25.0 in /Users/kei/www/langchain-experiments/venv/lib/python3.11/site-packages (from opentelemetry-exporter-otlp-proto-grpc>=1.2.0->chromadb<0.6.0,>=0.4.0->langchain_chroma) (1.25.0)\n",
      "Requirement already satisfied: opentelemetry-proto==1.25.0 in /Users/kei/www/langchain-experiments/venv/lib/python3.11/site-packages (from opentelemetry-exporter-otlp-proto-grpc>=1.2.0->chromadb<0.6.0,>=0.4.0->langchain_chroma) (1.25.0)\n",
      "Requirement already satisfied: opentelemetry-instrumentation-asgi==0.46b0 in /Users/kei/www/langchain-experiments/venv/lib/python3.11/site-packages (from opentelemetry-instrumentation-fastapi>=0.41b0->chromadb<0.6.0,>=0.4.0->langchain_chroma) (0.46b0)\n",
      "Requirement already satisfied: opentelemetry-instrumentation==0.46b0 in /Users/kei/www/langchain-experiments/venv/lib/python3.11/site-packages (from opentelemetry-instrumentation-fastapi>=0.41b0->chromadb<0.6.0,>=0.4.0->langchain_chroma) (0.46b0)\n",
      "Requirement already satisfied: opentelemetry-semantic-conventions==0.46b0 in /Users/kei/www/langchain-experiments/venv/lib/python3.11/site-packages (from opentelemetry-instrumentation-fastapi>=0.41b0->chromadb<0.6.0,>=0.4.0->langchain_chroma) (0.46b0)\n",
      "Requirement already satisfied: opentelemetry-util-http==0.46b0 in /Users/kei/www/langchain-experiments/venv/lib/python3.11/site-packages (from opentelemetry-instrumentation-fastapi>=0.41b0->chromadb<0.6.0,>=0.4.0->langchain_chroma) (0.46b0)\n",
      "Requirement already satisfied: setuptools>=16.0 in /Users/kei/www/langchain-experiments/venv/lib/python3.11/site-packages (from opentelemetry-instrumentation==0.46b0->opentelemetry-instrumentation-fastapi>=0.41b0->chromadb<0.6.0,>=0.4.0->langchain_chroma) (67.6.1)\n",
      "Requirement already satisfied: wrapt<2.0.0,>=1.0.0 in /Users/kei/www/langchain-experiments/venv/lib/python3.11/site-packages (from opentelemetry-instrumentation==0.46b0->opentelemetry-instrumentation-fastapi>=0.41b0->chromadb<0.6.0,>=0.4.0->langchain_chroma) (1.16.0)\n",
      "Requirement already satisfied: asgiref~=3.0 in /Users/kei/www/langchain-experiments/venv/lib/python3.11/site-packages (from opentelemetry-instrumentation-asgi==0.46b0->opentelemetry-instrumentation-fastapi>=0.41b0->chromadb<0.6.0,>=0.4.0->langchain_chroma) (3.8.1)\n",
      "Requirement already satisfied: monotonic>=1.5 in /Users/kei/www/langchain-experiments/venv/lib/python3.11/site-packages (from posthog>=2.4.0->chromadb<0.6.0,>=0.4.0->langchain_chroma) (1.6)\n",
      "Requirement already satisfied: backoff>=1.10.0 in /Users/kei/www/langchain-experiments/venv/lib/python3.11/site-packages (from posthog>=2.4.0->chromadb<0.6.0,>=0.4.0->langchain_chroma) (2.2.1)\n",
      "Requirement already satisfied: annotated-types>=0.4.0 in /Users/kei/www/langchain-experiments/venv/lib/python3.11/site-packages (from pydantic>=1.9->chromadb<0.6.0,>=0.4.0->langchain_chroma) (0.7.0)\n",
      "Requirement already satisfied: pydantic-core==2.20.1 in /Users/kei/www/langchain-experiments/venv/lib/python3.11/site-packages (from pydantic>=1.9->chromadb<0.6.0,>=0.4.0->langchain_chroma) (2.20.1)\n",
      "Requirement already satisfied: charset-normalizer<4,>=2 in /Users/kei/www/langchain-experiments/venv/lib/python3.11/site-packages (from requests>=2.28->chromadb<0.6.0,>=0.4.0->langchain_chroma) (3.3.2)\n",
      "Requirement already satisfied: huggingface-hub<1.0,>=0.16.4 in /Users/kei/www/langchain-experiments/venv/lib/python3.11/site-packages (from tokenizers>=0.13.2->chromadb<0.6.0,>=0.4.0->langchain_chroma) (0.23.4)\n",
      "Requirement already satisfied: click>=8.0.0 in /Users/kei/www/langchain-experiments/venv/lib/python3.11/site-packages (from typer>=0.9.0->chromadb<0.6.0,>=0.4.0->langchain_chroma) (8.1.7)\n",
      "Requirement already satisfied: shellingham>=1.3.0 in /Users/kei/www/langchain-experiments/venv/lib/python3.11/site-packages (from typer>=0.9.0->chromadb<0.6.0,>=0.4.0->langchain_chroma) (1.5.4)\n",
      "Requirement already satisfied: rich>=10.11.0 in /Users/kei/www/langchain-experiments/venv/lib/python3.11/site-packages (from typer>=0.9.0->chromadb<0.6.0,>=0.4.0->langchain_chroma) (13.7.1)\n",
      "Requirement already satisfied: httptools>=0.5.0 in /Users/kei/www/langchain-experiments/venv/lib/python3.11/site-packages (from uvicorn[standard]>=0.18.3->chromadb<0.6.0,>=0.4.0->langchain_chroma) (0.6.1)\n",
      "Requirement already satisfied: python-dotenv>=0.13 in /Users/kei/www/langchain-experiments/venv/lib/python3.11/site-packages (from uvicorn[standard]>=0.18.3->chromadb<0.6.0,>=0.4.0->langchain_chroma) (1.0.1)\n",
      "Requirement already satisfied: uvloop!=0.15.0,!=0.15.1,>=0.14.0 in /Users/kei/www/langchain-experiments/venv/lib/python3.11/site-packages (from uvicorn[standard]>=0.18.3->chromadb<0.6.0,>=0.4.0->langchain_chroma) (0.19.0)\n",
      "Requirement already satisfied: watchfiles>=0.13 in /Users/kei/www/langchain-experiments/venv/lib/python3.11/site-packages (from uvicorn[standard]>=0.18.3->chromadb<0.6.0,>=0.4.0->langchain_chroma) (0.22.0)\n",
      "Requirement already satisfied: websockets>=10.4 in /Users/kei/www/langchain-experiments/venv/lib/python3.11/site-packages (from uvicorn[standard]>=0.18.3->chromadb<0.6.0,>=0.4.0->langchain_chroma) (12.0)\n",
      "Requirement already satisfied: cachetools<6.0,>=2.0.0 in /Users/kei/www/langchain-experiments/venv/lib/python3.11/site-packages (from google-auth>=1.0.1->kubernetes>=28.1.0->chromadb<0.6.0,>=0.4.0->langchain_chroma) (5.3.3)\n",
      "Requirement already satisfied: pyasn1-modules>=0.2.1 in /Users/kei/www/langchain-experiments/venv/lib/python3.11/site-packages (from google-auth>=1.0.1->kubernetes>=28.1.0->chromadb<0.6.0,>=0.4.0->langchain_chroma) (0.4.0)\n",
      "Requirement already satisfied: rsa<5,>=3.1.4 in /Users/kei/www/langchain-experiments/venv/lib/python3.11/site-packages (from google-auth>=1.0.1->kubernetes>=28.1.0->chromadb<0.6.0,>=0.4.0->langchain_chroma) (4.9)\n",
      "Requirement already satisfied: filelock in /Users/kei/www/langchain-experiments/venv/lib/python3.11/site-packages (from huggingface-hub<1.0,>=0.16.4->tokenizers>=0.13.2->chromadb<0.6.0,>=0.4.0->langchain_chroma) (3.15.4)\n",
      "Requirement already satisfied: fsspec>=2023.5.0 in /Users/kei/www/langchain-experiments/venv/lib/python3.11/site-packages (from huggingface-hub<1.0,>=0.16.4->tokenizers>=0.13.2->chromadb<0.6.0,>=0.4.0->langchain_chroma) (2024.6.1)\n",
      "Requirement already satisfied: zipp>=0.5 in /Users/kei/www/langchain-experiments/venv/lib/python3.11/site-packages (from importlib-metadata<=7.1,>=6.0->opentelemetry-api>=1.2.0->chromadb<0.6.0,>=0.4.0->langchain_chroma) (3.19.2)\n",
      "Requirement already satisfied: markdown-it-py>=2.2.0 in /Users/kei/www/langchain-experiments/venv/lib/python3.11/site-packages (from rich>=10.11.0->typer>=0.9.0->chromadb<0.6.0,>=0.4.0->langchain_chroma) (3.0.0)\n",
      "Requirement already satisfied: pygments<3.0.0,>=2.13.0 in /Users/kei/www/langchain-experiments/venv/lib/python3.11/site-packages (from rich>=10.11.0->typer>=0.9.0->chromadb<0.6.0,>=0.4.0->langchain_chroma) (2.18.0)\n",
      "Requirement already satisfied: humanfriendly>=9.1 in /Users/kei/www/langchain-experiments/venv/lib/python3.11/site-packages (from coloredlogs->onnxruntime>=1.14.1->chromadb<0.6.0,>=0.4.0->langchain_chroma) (10.0)\n",
      "Requirement already satisfied: mpmath<1.4.0,>=1.1.0 in /Users/kei/www/langchain-experiments/venv/lib/python3.11/site-packages (from sympy->onnxruntime>=1.14.1->chromadb<0.6.0,>=0.4.0->langchain_chroma) (1.3.0)\n",
      "Requirement already satisfied: mdurl~=0.1 in /Users/kei/www/langchain-experiments/venv/lib/python3.11/site-packages (from markdown-it-py>=2.2.0->rich>=10.11.0->typer>=0.9.0->chromadb<0.6.0,>=0.4.0->langchain_chroma) (0.1.2)\n",
      "Requirement already satisfied: pyasn1<0.7.0,>=0.4.6 in /Users/kei/www/langchain-experiments/venv/lib/python3.11/site-packages (from pyasn1-modules>=0.2.1->google-auth>=1.0.1->kubernetes>=28.1.0->chromadb<0.6.0,>=0.4.0->langchain_chroma) (0.6.0)\n",
      "\n",
      "\u001b[1m[\u001b[0m\u001b[34;49mnotice\u001b[0m\u001b[1;39;49m]\u001b[0m\u001b[39;49m A new release of pip is available: \u001b[0m\u001b[31;49m24.1.1\u001b[0m\u001b[39;49m -> \u001b[0m\u001b[32;49m24.1.2\u001b[0m\n",
      "\u001b[1m[\u001b[0m\u001b[34;49mnotice\u001b[0m\u001b[1;39;49m]\u001b[0m\u001b[39;49m To update, run: \u001b[0m\u001b[32;49mpip install --upgrade pip\u001b[0m\n"
     ]
    }
   ],
   "source": [
    "!pip install jq\n",
    "!pip install nest_asyncio\n",
    "!pip install langchain_chroma langchain_openai"
   ]
  },
  {
   "cell_type": "markdown",
   "metadata": {},
   "source": [
    "# Get Data"
   ]
  },
  {
   "cell_type": "code",
   "execution_count": 2,
   "metadata": {},
   "outputs": [],
   "source": [
    "import asyncio\n",
    "from aiohttp import ClientSession\n",
    "import nest_asyncio\n",
    "\n",
    "nest_asyncio.apply()\n",
    "\n",
    "base_url = 'https://pokeapi.co/api/v2/pokemon'\n",
    "\n",
    "async def fetch_json(session, url):\n",
    "    async with session.get(url) as response:\n",
    "        response =  await response.json()\n",
    "        response['url'] = url\n",
    "        return response\n",
    "\n",
    "async def fetch_all_pokemon_details(base_url, limit=10):\n",
    "    async with ClientSession() as session:\n",
    "        all_pokemon = []\n",
    "        next_url = f\"{base_url}?offset=0&limit={limit}\"\n",
    "\n",
    "        while next_url:\n",
    "            data = await fetch_json(session, next_url)\n",
    "            all_pokemon.extend(data['results'])\n",
    "            next_url = None\n",
    "            #next_url = data['next']\n",
    "\n",
    "        tasks = [fetch_json(session, pokemon['url']) for pokemon in all_pokemon]\n",
    "        all_pokemon_details = await asyncio.gather(*tasks)\n",
    "        return all_pokemon_details\n",
    "\n",
    "\n",
    "async def fetch_all_pokemons(limit):\n",
    "    base_url = \"https://pokeapi.co/api/v2/pokemon\"\n",
    "    all_pokemon_details = asyncio.run(fetch_all_pokemon_details(base_url, limit))\n",
    "    data = []\n",
    "    for details in all_pokemon_details:\n",
    "        data.append({\"url\": details[\"url\"], \"name\": details['name'], \"ID\": details['id'], \"types\": ', '.join(t['type']['name'] for t in details['types'])})\n",
    "    return data\n",
    "\n",
    "pokemons = await fetch_all_pokemons(20)"
   ]
  },
  {
   "cell_type": "markdown",
   "metadata": {},
   "source": [
    "# Load and embed"
   ]
  },
  {
   "cell_type": "code",
   "execution_count": 3,
   "metadata": {},
   "outputs": [
    {
     "name": "stdout",
     "output_type": "stream",
     "text": [
      "[Document(metadata={'source': 'https://pokeapi.co/api/v2/pokemon/1/', 'seq_num': 1}, page_content='{\"url\": \"https://pokeapi.co/api/v2/pokemon/1/\", \"name\": \"bulbasaur\", \"ID\": 1, \"types\": \"grass, poison\"}'), Document(metadata={'source': 'https://pokeapi.co/api/v2/pokemon/2/', 'seq_num': 2}, page_content='{\"url\": \"https://pokeapi.co/api/v2/pokemon/2/\", \"name\": \"ivysaur\", \"ID\": 2, \"types\": \"grass, poison\"}'), Document(metadata={'source': 'https://pokeapi.co/api/v2/pokemon/3/', 'seq_num': 3}, page_content='{\"url\": \"https://pokeapi.co/api/v2/pokemon/3/\", \"name\": \"venusaur\", \"ID\": 3, \"types\": \"grass, poison\"}'), Document(metadata={'source': 'https://pokeapi.co/api/v2/pokemon/4/', 'seq_num': 4}, page_content='{\"url\": \"https://pokeapi.co/api/v2/pokemon/4/\", \"name\": \"charmander\", \"ID\": 4, \"types\": \"fire\"}'), Document(metadata={'source': 'https://pokeapi.co/api/v2/pokemon/5/', 'seq_num': 5}, page_content='{\"url\": \"https://pokeapi.co/api/v2/pokemon/5/\", \"name\": \"charmeleon\", \"ID\": 5, \"types\": \"fire\"}'), Document(metadata={'source': 'https://pokeapi.co/api/v2/pokemon/6/', 'seq_num': 6}, page_content='{\"url\": \"https://pokeapi.co/api/v2/pokemon/6/\", \"name\": \"charizard\", \"ID\": 6, \"types\": \"fire, flying\"}'), Document(metadata={'source': 'https://pokeapi.co/api/v2/pokemon/7/', 'seq_num': 7}, page_content='{\"url\": \"https://pokeapi.co/api/v2/pokemon/7/\", \"name\": \"squirtle\", \"ID\": 7, \"types\": \"water\"}'), Document(metadata={'source': 'https://pokeapi.co/api/v2/pokemon/8/', 'seq_num': 8}, page_content='{\"url\": \"https://pokeapi.co/api/v2/pokemon/8/\", \"name\": \"wartortle\", \"ID\": 8, \"types\": \"water\"}'), Document(metadata={'source': 'https://pokeapi.co/api/v2/pokemon/9/', 'seq_num': 9}, page_content='{\"url\": \"https://pokeapi.co/api/v2/pokemon/9/\", \"name\": \"blastoise\", \"ID\": 9, \"types\": \"water\"}'), Document(metadata={'source': 'https://pokeapi.co/api/v2/pokemon/10/', 'seq_num': 10}, page_content='{\"url\": \"https://pokeapi.co/api/v2/pokemon/10/\", \"name\": \"caterpie\", \"ID\": 10, \"types\": \"bug\"}'), Document(metadata={'source': 'https://pokeapi.co/api/v2/pokemon/11/', 'seq_num': 11}, page_content='{\"url\": \"https://pokeapi.co/api/v2/pokemon/11/\", \"name\": \"metapod\", \"ID\": 11, \"types\": \"bug\"}'), Document(metadata={'source': 'https://pokeapi.co/api/v2/pokemon/12/', 'seq_num': 12}, page_content='{\"url\": \"https://pokeapi.co/api/v2/pokemon/12/\", \"name\": \"butterfree\", \"ID\": 12, \"types\": \"bug, flying\"}'), Document(metadata={'source': 'https://pokeapi.co/api/v2/pokemon/13/', 'seq_num': 13}, page_content='{\"url\": \"https://pokeapi.co/api/v2/pokemon/13/\", \"name\": \"weedle\", \"ID\": 13, \"types\": \"bug, poison\"}'), Document(metadata={'source': 'https://pokeapi.co/api/v2/pokemon/14/', 'seq_num': 14}, page_content='{\"url\": \"https://pokeapi.co/api/v2/pokemon/14/\", \"name\": \"kakuna\", \"ID\": 14, \"types\": \"bug, poison\"}'), Document(metadata={'source': 'https://pokeapi.co/api/v2/pokemon/15/', 'seq_num': 15}, page_content='{\"url\": \"https://pokeapi.co/api/v2/pokemon/15/\", \"name\": \"beedrill\", \"ID\": 15, \"types\": \"bug, poison\"}'), Document(metadata={'source': 'https://pokeapi.co/api/v2/pokemon/16/', 'seq_num': 16}, page_content='{\"url\": \"https://pokeapi.co/api/v2/pokemon/16/\", \"name\": \"pidgey\", \"ID\": 16, \"types\": \"normal, flying\"}'), Document(metadata={'source': 'https://pokeapi.co/api/v2/pokemon/17/', 'seq_num': 17}, page_content='{\"url\": \"https://pokeapi.co/api/v2/pokemon/17/\", \"name\": \"pidgeotto\", \"ID\": 17, \"types\": \"normal, flying\"}'), Document(metadata={'source': 'https://pokeapi.co/api/v2/pokemon/18/', 'seq_num': 18}, page_content='{\"url\": \"https://pokeapi.co/api/v2/pokemon/18/\", \"name\": \"pidgeot\", \"ID\": 18, \"types\": \"normal, flying\"}'), Document(metadata={'source': 'https://pokeapi.co/api/v2/pokemon/19/', 'seq_num': 19}, page_content='{\"url\": \"https://pokeapi.co/api/v2/pokemon/19/\", \"name\": \"rattata\", \"ID\": 19, \"types\": \"normal\"}'), Document(metadata={'source': 'https://pokeapi.co/api/v2/pokemon/20/', 'seq_num': 20}, page_content='{\"url\": \"https://pokeapi.co/api/v2/pokemon/20/\", \"name\": \"raticate\", \"ID\": 20, \"types\": \"normal\"}')]\n"
     ]
    }
   ],
   "source": [
    "from langchain_community.document_loaders import JSONLoader\n",
    "import tempfile\n",
    "import os\n",
    "import json\n",
    "\n",
    "\n",
    "with tempfile.NamedTemporaryFile(mode='w+', delete=False, suffix='.json') as temp_file:\n",
    "    json.dump(pokemons, temp_file, indent=4)\n",
    "    temp_file_path = temp_file.name\n",
    "\n",
    "def metadata_func(record: dict, metadata: dict) -> dict:\n",
    "    metadata['source'] = record['url']\n",
    "    return metadata\n",
    "\n",
    "loader = JSONLoader(\n",
    "    jq_schema=\".[]\",\n",
    "    file_path=temp_file_path,\n",
    "    text_content=False,\n",
    "    metadata_func=metadata_func\n",
    ")\n",
    "\n",
    "\n",
    "documents = loader.load()\n",
    "print(documents)\n",
    "os.remove(temp_file_path)"
   ]
  },
  {
   "cell_type": "markdown",
   "metadata": {},
   "source": [
    "# Embed and store"
   ]
  },
  {
   "cell_type": "code",
   "execution_count": 4,
   "metadata": {},
   "outputs": [
    {
     "data": {
      "text/plain": [
       "['3fdf52db-f01f-44a7-ba50-c17ebeba45d9',\n",
       " 'e89a8064-9aeb-4a5f-9e71-f6a8518f78ed',\n",
       " 'ebde91f7-d5c3-43b1-a19f-cec2f5fbb6a2',\n",
       " 'b58c369b-7437-4bf4-b9e5-a85044f98251',\n",
       " '54242400-c185-4dc0-b0a4-7453ea72baaa',\n",
       " '6e0698a4-9892-4283-bf75-6fe04842dbe6',\n",
       " 'a18f258f-04d6-4927-b6a9-b039e637b9cb',\n",
       " '2c62db82-6b9c-4082-b94a-953999e653be',\n",
       " '4836ab89-c12e-4c3b-a846-419fa957d1f3',\n",
       " 'f13804e7-c453-4a8e-bf3e-649c1d8e7676',\n",
       " '325e38de-9ffa-4400-971f-6a30eb827c00',\n",
       " '44d43070-f5bf-4c1a-a785-c63da381794a',\n",
       " 'e50fbb83-cc30-42d1-af31-05df359210a8',\n",
       " '968081cc-e7cb-41e7-8900-fd2971402282',\n",
       " '08ab4acb-cf5b-4dc3-af15-3f3b2152f767',\n",
       " '93d11572-d311-403b-8cb7-a0812e6b9ee8',\n",
       " '7b4b6e67-e33c-4832-8a46-13ea0fb89182',\n",
       " '20012597-1929-413e-b79d-117c5aed48f1',\n",
       " 'd95010ab-d4fc-471b-afa1-9065688150d4',\n",
       " 'fd548006-b538-46ce-91c9-4b45d1b8efc6']"
      ]
     },
     "execution_count": 4,
     "metadata": {},
     "output_type": "execute_result"
    }
   ],
   "source": [
    "\n",
    "from langchain_chroma import Chroma\n",
    "from langchain_openai import OpenAIEmbeddings\n",
    "from dotenv import load_dotenv, find_dotenv\n",
    "\n",
    "load_dotenv()\n",
    "\n",
    "embedding = OpenAIEmbeddings()\n",
    "\n",
    "db = Chroma(persist_directory=\"../db/chroma/pokemons\", embedding_function=embedding, collection_name=\"pokemon\")\n",
    "db.add_documents(documents=documents)"
   ]
  },
  {
   "cell_type": "markdown",
   "metadata": {},
   "source": [
    "# Retrieve"
   ]
  },
  {
   "cell_type": "code",
   "execution_count": 5,
   "metadata": {},
   "outputs": [
    {
     "name": "stdout",
     "output_type": "stream",
     "text": [
      "[Document(metadata={'seq_num': 1, 'source': 'https://pokeapi.co/api/v2/pokemon/1/'}, page_content='{\"url\": \"https://pokeapi.co/api/v2/pokemon/1/\", \"name\": \"bulbasaur\", \"ID\": 1, \"types\": \"grass, poison\"}'), Document(metadata={'seq_num': 2, 'source': 'https://pokeapi.co/api/v2/pokemon/2/'}, page_content='{\"url\": \"https://pokeapi.co/api/v2/pokemon/2/\", \"name\": \"ivysaur\", \"ID\": 2, \"types\": \"grass, poison\"}'), Document(metadata={'seq_num': 3, 'source': 'https://pokeapi.co/api/v2/pokemon/3/'}, page_content='{\"url\": \"https://pokeapi.co/api/v2/pokemon/3/\", \"name\": \"venusaur\", \"ID\": 3, \"types\": \"grass, poison\"}'), Document(metadata={'seq_num': 9, 'source': 'https://pokeapi.co/api/v2/pokemon/9/'}, page_content='{\"url\": \"https://pokeapi.co/api/v2/pokemon/9/\", \"name\": \"blastoise\", \"ID\": 9, \"types\": \"water\"}')]\n",
      "I know 4 pokemons: pidgeotto, pidgeot, pidgey, and beedrill.\n"
     ]
    }
   ],
   "source": [
    "from langchain.retrievers import SelfQueryRetriever\n",
    "from langchain_openai import OpenAI\n",
    "from langchain_community.query_constructors.chroma import ChromaTranslator\n",
    "from langchain_core.runnables import RunnableParallel, RunnablePassthrough\n",
    "from langchain_core.prompts import PromptTemplate\n",
    "\n",
    "llm = OpenAI(temperature=0)\n",
    "\n",
    "metadata_fields_info = [\n",
    "    {\"name\": \"name\", \"description\": \"Pokemon name\", \"type\": \"string\"},\n",
    "    {\"name\": \"ID\", \"description\": \"Pokemon ID\", \"type\": \"string\"},\n",
    "    {\"name\": \"types\", \"description\": \"Pokemon types (fire, water, etc...), comma separated\", \"type\": \"string\"},\n",
    "]\n",
    "\n",
    "retriever = SelfQueryRetriever.from_llm(\n",
    "    llm=llm,\n",
    "    vectorstore=db,\n",
    "    document_contents=\"List of pokemonons\",\n",
    "    metadata_field_info=metadata_fields_info,\n",
    "    structured_query_translator=ChromaTranslator(),\n",
    "    enable_limit=True,\n",
    ")\n",
    "\n",
    "template = \"\"\"\n",
    "You are an helpful assistant, \n",
    "Format the response from the following context only, do not use your own knowledge.\n",
    "If you don't know, say : \"I don't know\"\n",
    "\n",
    "Context: ```\n",
    "{context}\n",
    "```\n",
    "\n",
    "user query: ```{input}```\n",
    "answer: \n",
    "\"\"\"\n",
    "\n",
    "prompt = PromptTemplate(template=template, input_variables=['input', 'context'])\n",
    "\n",
    "context = RunnableParallel(\n",
    "    context=retriever,\n",
    "    input=RunnablePassthrough()\n",
    ")\n",
    "\n",
    "print(retriever.invoke('what is the id of bulbasaur'))\n",
    "\n",
    "chain = context | prompt | llm\n",
    "\n",
    "response = print(chain.invoke('How many pokemons do you know ?'))"
   ]
  },
  {
   "cell_type": "code",
   "execution_count": 6,
   "metadata": {},
   "outputs": [
    {
     "name": "stderr",
     "output_type": "stream",
     "text": [
      "/Users/kei/www/langchain-experiments/venv/lib/python3.11/site-packages/langchain_core/_api/deprecation.py:139: LangChainDeprecationWarning: The method `Chain.run` was deprecated in langchain 0.1.0 and will be removed in 0.3.0. Use invoke instead.\n",
      "  warn_deprecated(\n"
     ]
    },
    {
     "name": "stdout",
     "output_type": "stream",
     "text": [
      " This data contains information about various Pokemon, including their names, ID numbers, types, and\n",
      "URLs for more information. The Pokemon range from grass and poison types like Bulbasaur and\n",
      "Venusaur, to fire and flying types like Charizard, to bug and poison types like Weedle and Beedrill,\n",
      "to normal and flying types like Pidgey and Pidgeot, and finally to normal types like Rattata and\n",
      "Raticate.\n"
     ]
    },
    {
     "name": "stderr",
     "output_type": "stream",
     "text": [
      "/Users/kei/www/langchain-experiments/venv/lib/python3.11/site-packages/langchain_core/_api/deprecation.py:139: LangChainDeprecationWarning: The class `LLMChain` was deprecated in LangChain 0.1.17 and will be removed in 1.0. Use RunnableSequence, e.g., `prompt | llm` instead.\n",
      "  warn_deprecated(\n"
     ]
    },
    {
     "data": {
      "text/plain": [
       "['abe31a4d-2543-4660-8c10-8b69de053474']"
      ]
     },
     "execution_count": 6,
     "metadata": {},
     "output_type": "execute_result"
    }
   ],
   "source": [
    "# Create stuff retriver\n",
    "# doc: https://python.langchain.com/v0.2/docs/tutorials/summarization/#:~:text=Map%2Dreduce%2C%20which%20splits%20documents,the%20documents%20in%20a%20sequence.\n",
    "\n",
    "from langchain.chains.combine_documents import create_stuff_documents_chain\n",
    "from langchain.chains import create_retrieval_chain, StuffDocumentsChain, LLMChain\n",
    "from langchain.chains.summarize import load_summarize_chain\n",
    "from langchain_core.documents import Document\n",
    "\n",
    "import textwrap\n",
    "chain = load_summarize_chain(llm, chain_type=\"map_reduce\",verbose = False)\n",
    "output_summary = chain.run(documents)\n",
    "wrapped_text = textwrap.fill(output_summary, width=100)\n",
    "print(wrapped_text)\n",
    "\n",
    "\n",
    "# With stuffdocument chain\n",
    "# Define prompt\n",
    "prompt_template = \"\"\"Count and classify the document to get an overall preview of all documents\n",
    "\"{context}\"\n",
    "SUMMARY:\"\"\"\n",
    "prompt = PromptTemplate.from_template(prompt_template)\n",
    "\n",
    "# Define LLM chain\n",
    "llm_chain = prompt | llm\n",
    "\n",
    "# Define StuffDocumentsChain\n",
    "stuff_chain = StuffDocumentsChain(llm_chain=llm_chain)\n",
    "\n",
    "\n",
    "summary  = stuff_chain.invoke(documents)[\"output_text\"]\n",
    "\n",
    "summary_doc = Document(summary)\n",
    "summary_db = Chroma(persist_directory=\"../db/chroma/pokemon_summary\", embedding_function=embedding, collection_name=\"summary\")\n",
    "summary_db.add_documents([summary_doc])\n"
   ]
  },
  {
   "cell_type": "code",
   "execution_count": 48,
   "metadata": {},
   "outputs": [],
   "source": [
    "# Next step, create a tool to get the summary, a tool to get the retriever and an agent\n",
    "\n"
   ]
  },
  {
   "cell_type": "code",
   "execution_count": null,
   "metadata": {},
   "outputs": [],
   "source": []
  }
 ],
 "metadata": {
  "kernelspec": {
   "display_name": "venv",
   "language": "python",
   "name": "python3"
  },
  "language_info": {
   "codemirror_mode": {
    "name": "ipython",
    "version": 3
   },
   "file_extension": ".py",
   "mimetype": "text/x-python",
   "name": "python",
   "nbconvert_exporter": "python",
   "pygments_lexer": "ipython3",
   "version": "3.11.3"
  }
 },
 "nbformat": 4,
 "nbformat_minor": 2
}
