{
 "cells": [
  {
   "cell_type": "markdown",
   "metadata": {},
   "source": [
    "# Scraping"
   ]
  },
  {
   "cell_type": "code",
   "execution_count": 72,
   "metadata": {},
   "outputs": [
    {
     "name": "stdout",
     "output_type": "stream",
     "text": [
      "<!DOCTYPE html><html><head>\n",
      "    <title>Blocked</title>\n",
      "    <style>\n",
      "      body {\n",
      "          font: small verdana, arial, helvetica, sans-serif;\n",
      "          width: 600px;\n",
      "          margin: 0 auto;\n",
      "      }\n",
      "\n",
      "      h1 {\n",
      "          height: 40px;\n",
      "          background: transparent url(//www.redditstatic.com/reddit.com.header.png) no-repeat scroll top right;\n",
      "      }\n",
      "    </style>\n",
      "  </head>\n",
      "  <body>\n",
      "    <h1>whoa there, pardner!</h1>\n",
      "\n",
      "<p>Your request has been blocked due to a network policy.</p>\n",
      "\n",
      "<p>Try logging in or creating an account <a href=\"https://www.reddit.com/login/\">here</a> to get back to browsing.</p>\n",
      "\n",
      "<p>If you're running a script or application, please register or sign in with your developer credentials <a href=\"https://www.reddit.com/wiki/api/\">here</a>. Additionally make sure your User-Agent is not empty and is something unique and descriptive and try again. if you're supplying an alternate User-Agent string,\n",
      "try changing back to default as that can sometimes result in a block.</p>\n",
      "\n",
      "<p>You can read Reddit's Terms of Service <a href=\"https://www.reddit.com/wiki/api/\">here</a>.</p>\n",
      "\n",
      "<p>if you think that we've incorrectly blocked you or you would like to discuss\n",
      "easier ways to get the data you want, please file a ticket <a href=\"https://support.reddithelp.com/hc/en-us/requests/new?ticket_form_id=21879292693140\">here</a>.</p>\n",
      "\n",
      "<p>when contacting us, please include your ip address which is: <strong>176.165.167.163</strong> and reddit account</p>\n",
      "  \n",
      "\n",
      "    </body></html>\n"
     ]
    }
   ],
   "source": [
    "from playwright.async_api import async_playwright\n",
    "\n",
    "async def run():\n",
    "    async with async_playwright() as playwright:\n",
    "        browser = await playwright.chromium.launch(headless=True)\n",
    "        page = await browser.new_page()\n",
    "        \n",
    "        await page.goto(\"https://www.reddit.com/r/learnpython/comments/78qnze/web_scraping_in_20_lines_of_code_with/\")\n",
    "        await page.wait_for_load_state(\"networkidle\")\n",
    "        \n",
    "        content = await page.content()\n",
    "        print(content)\n",
    "        \n",
    "        await browser.close()\n",
    "await run()"
   ]
  },
  {
   "cell_type": "markdown",
   "metadata": {},
   "source": [
    "# Embedding"
   ]
  },
  {
   "cell_type": "code",
   "execution_count": 80,
   "metadata": {},
   "outputs": [
    {
     "name": "stdout",
     "output_type": "stream",
     "text": [
      "Aujourd'hui, votre centre est ouvert jusqu'à 19:00\n",
      "\n",
      "Aujourd'hui votre hypermarché est ouvert jusqu'à 19:00\n",
      "\n",
      "Vos restaurants sont ouverts jusqu'à 23:00\n",
      "\n",
      "Le Spot\n",
      "\n",
      "c'est quoi ?\n",
      "\n",
      "Le Spot, c’est votre nouveau terrain de jeu shopping, food, loisirs et culture au cœur d’Evry-Courcouronnes. 126 000 m² réunissant pour la 1ère fois en France, des commerces, des restaurants, un cinéma, une médiathèque, un théâtre, une salle de spectacle, une piscine et une patinoire.  Le Spot, un hyper lieu vivant, animé, végétalisé et ouvert sur son environnement. Pour shopper, rire, se régaler, se balader, chiller ou se dépenser, Le Spot, c’est une nouvelle destination à découvrir en famille, entre les amis, ou seul, tous les jours même le dimanche et en soirée.\n",
      "\n",
      "Je viens au spot\n",
      "\n",
      "En ce moment dans votre centre\n",
      "\n",
      "Les dernières news !\n",
      "\n",
      "Ça se passe en ce moment\n",
      "\n",
      "            Soldes d'été du 26 juin au 23 juillet\n",
      "\n",
      "Ça se passe en ce moment\n",
      "\n",
      "            Vivez l'Euro de foot 2024 au Spot !\n",
      "\n",
      "Ça se passe en ce moment\n",
      "\n",
      "            Les Olympiades du Spot du 5 au 21 juillet\n",
      "\n",
      "Hylton\n",
      "\n",
      "BESSON CHAUSSURES\n",
      "\n",
      "Pour tous nos bons plans, c'est par ici !\n",
      "\n",
      "Inscrivez-vous à notre newsletter pour recevoir toutes les actualités,\n",
      "\n",
      "Bons plans, et bonnes idées\n",
      "\n",
      "Facebook\n",
      "\n",
      "Instagram\n",
      "\n",
      "Tiktok\n",
      "\n",
      "Newsletter\n",
      "\n",
      "Youtube\n"
     ]
    }
   ],
   "source": [
    "from langchain_community.document_loaders import PlaywrightURLLoader\n",
    "from langchain.text_splitter import RecursiveCharacterTextSplitter\n",
    "\n",
    "\n",
    "\n",
    "text_splitter = RecursiveCharacterTextSplitter(\n",
    "    chunk_size=1000,\n",
    "    chunk_overlap=200,\n",
    ")\n",
    "\n",
    "urls = [\n",
    "    \"https://www.lespotevry.fr/\",\n",
    "]\n",
    "\n",
    "selectors_to_ignore = [\n",
    "    'iframe', \n",
    "    '.ad', '.ads', '.advertisement', '.banner',\n",
    "    'nav', 'footer', 'header',\n",
    "    '.navbar', '.menu', '.nav', '.footer', '.header',\n",
    "    'form', 'button', 'input', 'select', 'textarea',\n",
    "    '.form', '.button', '.btn',\n",
    "    '.widget', '.social', '.share', '.tweet', '.like',\n",
    "    'script', 'noscript', 'style', 'link',\n",
    "    '.comments', '.comment', '.reply', '.discussion',\n",
    "    '.forum', '.thread'\n",
    "]\n",
    "\n",
    "loader = PlaywrightURLLoader(urls=urls, remove_selectors=selectors_to_ignore, headless=True)\n",
    "\n",
    "data = await loader.aload()\n",
    "print(data[0].page_content)\n",
    "documents = text_splitter.split_documents(data)\n"
   ]
  },
  {
   "cell_type": "code",
   "execution_count": 77,
   "metadata": {},
   "outputs": [],
   "source": [
    "from langchain.vectorstores import Chroma\n",
    "from langchain.embeddings.openai import OpenAIEmbeddings\n",
    "\n",
    "embedding_model = OpenAIEmbeddings()\n",
    "db = Chroma.from_documents(documents, embedding_model, persist_directory=\"./chroma\")\n",
    "db.persist()"
   ]
  },
  {
   "cell_type": "code",
   "execution_count": 78,
   "metadata": {},
   "outputs": [
    {
     "name": "stdout",
     "output_type": "stream",
     "text": [
      "The purpose of the page is to inform users about current events, promotions, and activities happening at the location. It also provides links to sign up for newsletters and follow on social media platforms for updates. Additionally, it offers a way to contact customer support for assistance or to report any issues.\n"
     ]
    }
   ],
   "source": [
    "from langchain import hub\n",
    "from langchain_core.output_parsers import StrOutputParser\n",
    "from langchain_core.runnables import RunnablePassthrough\n",
    "from langchain_openai import ChatOpenAI\n",
    "\n",
    "llm = ChatOpenAI(temperature=0)\n",
    "\n",
    "\n",
    "def format_docs(docs):\n",
    "    return \"\\n\\n\".join(doc.page_content for doc in docs)\n",
    "\n",
    "\n",
    "retriever = db.as_retriever()\n",
    "prompt = hub.pull(\"rlm/rag-prompt\")\n",
    "\n",
    "rag_chain = (\n",
    "    {\"context\": retriever | format_docs, \"question\": RunnablePassthrough()}\n",
    "    | prompt\n",
    "    | llm\n",
    "    | StrOutputParser()\n",
    ")\n",
    "\n",
    "response = rag_chain.invoke(\"What is the purpose of the page\")\n",
    "\n",
    "print(response)"
   ]
  }
 ],
 "metadata": {
  "kernelspec": {
   "display_name": "venv",
   "language": "python",
   "name": "python3"
  },
  "language_info": {
   "codemirror_mode": {
    "name": "ipython",
    "version": 3
   },
   "file_extension": ".py",
   "mimetype": "text/x-python",
   "name": "python",
   "nbconvert_exporter": "python",
   "pygments_lexer": "ipython3",
   "version": "3.11.3"
  }
 },
 "nbformat": 4,
 "nbformat_minor": 2
}
